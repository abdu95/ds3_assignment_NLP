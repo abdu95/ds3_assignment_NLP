{
 "cells": [
  {
   "cell_type": "code",
   "execution_count": null,
   "metadata": {},
   "outputs": [],
   "source": [
    "import os\n",
    "import re # regex\n",
    "import urllib.request\n",
    "from urllib.request import urlopen, Request\n",
    "from bs4 import BeautifulSoup"
   ]
  },
  {
   "cell_type": "code",
   "execution_count": null,
   "metadata": {},
   "outputs": [],
   "source": [
    "import requests\n",
    "import time\n",
    "import random\n",
    "import csv\n",
    "import pandas as pd\n"
   ]
  },
  {
   "cell_type": "code",
   "execution_count": null,
   "metadata": {},
   "outputs": [],
   "source": []
  },
  {
   "cell_type": "markdown",
   "metadata": {},
   "source": [
    "15 posts in each page"
   ]
  },
  {
   "cell_type": "code",
   "execution_count": null,
   "metadata": {},
   "outputs": [],
   "source": [
    "for i in range(len(post_links)):\n",
    "    req = Request(post_links[i], headers={'User-Agent': 'Mozilla/5.0'})\n",
    "    html = urlopen(req).read()\n",
    "    bs = BeautifulSoup(html, 'html.parser')\n",
    "    \n",
    "    heading = bs.find('h1', class_ = 'lia-message-subject-banner').get_text()\n",
    "    date_of_post = bs.find('span', class_ = 'message_post_text').get_text()\n",
    "    post_content = bs.find('div', class_ = 'lia-message-body-content').get_text()\n",
    "    # open a csv file in append mode\n",
    "    with open(\"clients_data.csv\", \"a\", newline='') as csv_file:\n",
    "        writer = csv.writer(csv_file)\n",
    "        # write data to the file\n",
    "        writer.writerow([heading, date_of_post, post_content])\n",
    "#     print(heading)\n",
    "    i += 1\n",
    "    time.sleep(2)"
   ]
  },
  {
   "cell_type": "code",
   "execution_count": null,
   "metadata": {},
   "outputs": [],
   "source": []
  },
  {
   "cell_type": "code",
   "execution_count": null,
   "metadata": {},
   "outputs": [],
   "source": [
    "for i in range(1, 610):\n",
    "    url = 'https://community.upwork.com/t5/Clients/bd-p/clients/page/' + str(i)\n",
    "    req = Request(url, headers={'User-Agent': 'Mozilla/5.0'})\n",
    "    html = urlopen(req).read()\n",
    "    bs = BeautifulSoup(html, 'html.parser')\n",
    "    # 15 posts in each page\n",
    "    a_items = bs.find_all('a', class_='page-link lia-link-navigation lia-custom-event')\n",
    "    post_links =  ['https://community.upwork.com/' + elem['href'] for elem in a_items]\n",
    "    \n",
    "    for i in range(len(post_links)):\n",
    "        req = Request(post_links[i], headers={'User-Agent': 'Mozilla/5.0'})\n",
    "        html = urlopen(req).read()\n",
    "        bs = BeautifulSoup(html, 'html.parser')\n",
    "\n",
    "        heading = bs.find('h1', class_ = 'lia-message-subject-banner').get_text()\n",
    "        date_of_post = bs.find('span', class_ = 'message_post_text').get_text()\n",
    "        post_content = bs.find('div', class_ = 'lia-message-body-content').get_text()\n",
    "        # open a csv file in append mode\n",
    "        with open(\"clients_data.csv\", \"a\", newline='', encoding=\"utf-8\") as csv_file:\n",
    "            writer = csv.writer(csv_file)\n",
    "            # write data to the file\n",
    "            writer.writerow([heading, date_of_post, post_content])\n",
    "#         print(url)\n",
    "#         print(i)\n",
    "        i += 1\n",
    "        time.sleep(2)"
   ]
  },
  {
   "cell_type": "code",
   "execution_count": null,
   "metadata": {},
   "outputs": [],
   "source": [
    "for i in range(1, 1000):\n",
    "    url = 'https://community.upwork.com/t5/Freelancers/bd-p/freelancers/page/' + str(i)\n",
    "    req = Request(url, headers={'User-Agent': 'Mozilla/5.0'})\n",
    "    html = urlopen(req).read()\n",
    "    bs = BeautifulSoup(html, 'html.parser')\n",
    "    # 15 posts in each page\n",
    "    a_items = bs.find_all('a', class_='page-link lia-link-navigation lia-custom-event')\n",
    "    post_links =  ['https://community.upwork.com/' + elem['href'] for elem in a_items]\n",
    "    \n",
    "    for i in range(len(post_links)):\n",
    "        req = Request(post_links[i], headers={'User-Agent': 'Mozilla/5.0'})\n",
    "        html = urlopen(req).read()\n",
    "        bs = BeautifulSoup(html, 'html.parser')\n",
    "\n",
    "        heading = bs.find('h1', class_ = 'lia-message-subject-banner').get_text()\n",
    "        date_of_post = bs.find('span', class_ = 'message_post_text').get_text()\n",
    "        post_content = bs.find('div', class_ = 'lia-message-body-content').get_text()\n",
    "        # open a csv file in append mode\n",
    "        with open(\"freelancers_data.csv\", \"a\", newline='', encoding=\"utf-8\") as csv_file:\n",
    "            writer = csv.writer(csv_file)\n",
    "            # write data to the file\n",
    "            writer.writerow([heading, date_of_post, post_content])\n",
    "#         print(url)\n",
    "#         print(i)\n",
    "        i += 1\n",
    "        time.sleep(2)"
   ]
  },
  {
   "cell_type": "code",
   "execution_count": null,
   "metadata": {},
   "outputs": [],
   "source": [
    "for i in range(1, 86):\n",
    "    url = 'https://community.upwork.com/t5/Agencies/bd-p/Agencies/page/' + str(i)\n",
    "    req = Request(url, headers={'User-Agent': 'Mozilla/5.0'})\n",
    "    html = urlopen(req).read()\n",
    "    bs = BeautifulSoup(html, 'html.parser')\n",
    "    a_items = bs.find_all('a', class_='page-link lia-link-navigation lia-custom-event')\n",
    "    post_links =  ['https://community.upwork.com/' + elem['href'] for elem in a_items]\n",
    "    \n",
    "    for i in range(len(post_links)):\n",
    "        req = Request(post_links[i], headers={'User-Agent': 'Mozilla/5.0'})\n",
    "        html = urlopen(req).read()\n",
    "        bs = BeautifulSoup(html, 'html.parser')\n",
    "        heading = bs.find('h1', class_ = 'lia-message-subject-banner').get_text()\n",
    "        date_of_post = bs.find('span', class_ = 'message_post_text').get_text()\n",
    "        post_content = bs.find('div', class_ = 'lia-message-body-content').get_text()\n",
    "        with open(\"agencies_data.csv\", \"a\", newline='', encoding=\"utf-8\") as csv_file:\n",
    "            writer = csv.writer(csv_file)\n",
    "            writer.writerow([heading, date_of_post, post_content])\n",
    "#         print(url)\n",
    "#         print(i)\n",
    "        i += 1\n",
    "        time.sleep(2)"
   ]
  },
  {
   "cell_type": "code",
   "execution_count": null,
   "metadata": {},
   "outputs": [],
   "source": [
    "post_content"
   ]
  }
 ],
 "metadata": {
  "kernelspec": {
   "display_name": "Python 3",
   "language": "python",
   "name": "python3"
  },
  "language_info": {
   "codemirror_mode": {
    "name": "ipython",
    "version": 3
   },
   "file_extension": ".py",
   "mimetype": "text/x-python",
   "name": "python",
   "nbconvert_exporter": "python",
   "pygments_lexer": "ipython3",
   "version": "3.8.3"
  }
 },
 "nbformat": 4,
 "nbformat_minor": 4
}
